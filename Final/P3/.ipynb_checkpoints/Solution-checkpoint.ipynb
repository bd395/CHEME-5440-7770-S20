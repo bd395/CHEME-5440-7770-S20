{
 "cells": [
  {
   "cell_type": "markdown",
   "metadata": {},
   "source": [
    "## Steady-state model of lacZ expression in _E. coli_ cells "
   ]
  },
  {
   "cell_type": "markdown",
   "metadata": {},
   "source": [
    "### 1a. Convert copy number data to specific units (nmol/gDW)"
   ]
  },
  {
   "cell_type": "markdown",
   "metadata": {},
   "source": [
    "You are given copy number per cell, and asked to convert to nmol/gDW. The problem asks you to use the volume basis $B$ = <$m_{c}$>\\hat{N}$_{c}$V (symbols are defined in the problem, units g). To convert the numerator to nmol (x):\n",
    "\n",
    "\\begin{equation}\n",
    "x_{I} = <n_{I}>(\\hat{N}_{c}V)\\left(\\frac{1\\times{10^9}}{A_{v}}\\right)\n",
    "\\end{equation}\n",
    "    \n",
    "where $A_{v}$ denotes Avogadro's number. To get gram dry weight, say $B^{*}$ (gDW), we need to remove the weight of the water in an _E. coli_ cell. The fraction of water $\\alpha\\simeq$0.7 for  _E.coli_, thus, \n",
    "$B^{*}$ = $(1 - \\alpha)B$. Putting these two things together gives steady-state measured mRNA values at inducer level $I$, $m_{I}^{*,e}$\n",
    "    \n",
    "\\begin{equation}\n",
    "   m_{I}^{*,e} = x_{I}/B^{*}\n",
    "\\end{equation}or:\n",
    "\n",
    "\\begin{equation}\n",
    "    m_{I}^{*,e} = \\frac{<n_{I}>(\\hat{N}_{c}V)\\left(\\frac{1\\times{10^9}}{A_{v}}\\right)}{(1 - \\alpha)<m_{c}>\\left(\\hat{N}_{c}V\\right)}\n",
    "\\end{equation}\n",
    "\n",
    "Notice that the sample size we choose (number of cells, the $\\hat{N}_{c}$V term) cancels since we are using average values."
   ]
  },
  {
   "cell_type": "markdown",
   "metadata": {},
   "source": [
    "### 1b. Gain function. "
   ]
  },
  {
   "cell_type": "markdown",
   "metadata": {},
   "source": [
    "To derive the gain function, solve for steady-state mNRA concentration and group terms. The intracellular mRNA balance for mRNA $i$ is given by:\n",
    "\n",
    "\\begin{equation}\n",
    "\\dot{m}_{i} = r_{X,i}\\bar{u}_{i} - \\left(\\mu+\\theta_{m,i}\\right)m_{i}\n",
    "\\end{equation}\n",
    "\n",
    "At steady-state, all time derivatives vanish giving:\n",
    "\n",
    "\\begin{equation}\n",
    "r_{X,i}\\bar{u}_{i} - \\left(\\mu+\\theta_{m,i}\\right)m^{*}_{i} = 0\n",
    "\\end{equation}\n",
    "\n",
    "which can be solved for the steady-state mRNA concentration:\n",
    "\n",
    "\\begin{equation}\n",
    "m_{i}^{*} = \\left[\\frac{r_{X,i}}{\\left(\\mu+\\theta_{m,i}\\right)}\\right]\\bar{u}_{i}\n",
    "\\end{equation}\n",
    "Thus, the gain $\\mathcal{K}_{X}$:\n",
    "\n",
    "\\begin{equation}\n",
    "\\mathcal{K}_{X} \\equiv \\left[\\frac{r_{X,i}}{\\left(\\mu+\\theta_{m,i}\\right)}\\right]\n",
    "\\end{equation} is the kinetic limit of transcription normalized by the sum of the degradation and dilution terms."
   ]
  },
  {
   "cell_type": "markdown",
   "metadata": {},
   "source": [
    "### 1c. Find parameters from literature or estimate them from the data in the problem"
   ]
  },
  {
   "cell_type": "markdown",
   "metadata": {},
   "source": [
    "To answer this quation, you have to look up values for the various constants that appear in the kinetic limit $r_{X,i}$ and the promoter actvity model. The functional form for $r_{X,i}$ is given in the notes (we derived in class at the beginning of the semester (more on this when evaluating 1d). The promoter activity function takes the form:\n",
    "\n",
    "\\begin{equation}\n",
    "\\bar{u} = \\frac{W_{1}+W_{2}f_{I}}{1+W_{1}+W_{2}f_{I}}\n",
    "\\end{equation}\n",
    "\n",
    "This was derived using the approach of Moon et al, where $W_{\\star}$ denote the weight of promoter configuration $\\star$ and $f_{I}$ denotes a binding function for incuder $I$ given by a Hill-equation. Note the $\\bar{\\cdot}$ notation for $u$ just denotes that we have both regulated, and unregulated terms."
   ]
  },
  {
   "cell_type": "markdown",
   "metadata": {},
   "source": [
    "#### Estimate W1"
   ]
  },
  {
   "cell_type": "markdown",
   "metadata": {},
   "source": [
    "We can estimate $W_{1}$ from the experimental data if we have a value for the gain. Fortunately, the data includes the saturation regime for expression. At stauration (around I = 0.216 mM), we know that $\\bar{u}\\simeq{1}$, thus:\n",
    "\n",
    "\\begin{equation}\n",
    "m^{*,e}(I=0.216) = \\mathcal{K}_{X}\n",
    "\\end{equation}\n",
    "\n",
    "The gain is not a function of inducer. Thus, at I = 0, $f_{I}$ = 0 which gives and expression that we solve for $W_{1}$:\n",
    "\n",
    "\\begin{equation}\n",
    "\\frac{m^{*,e}(I=0)}{\\mathcal{K}_{X}} = \\frac{W_1}{1+W_1}\n",
    "\\end{equation}which we can solve for $W_{1}$ = 0.25"
   ]
  },
  {
   "cell_type": "markdown",
   "metadata": {},
   "source": [
    "#### Estimate W2"
   ]
  },
  {
   "cell_type": "markdown",
   "metadata": {},
   "source": [
    "To estimate $W_{2}$ we can use the other end of the data range. When the mRNA concentration saturates, the $\\bar{u}$ = 1, and the gene is being expressed very near the kinetic limit. Let's assume at I = 0.216 mM that $\\bar{u}$(I=0.216)$\\simeq$0.99 and $f_{I}\\simeq{1}$. Then the promoter activity function is given by:\n",
    "\n",
    "\\begin{equation}\n",
    "\\bar{u}(I=0.216) = \\frac{W_{1}+W_{2}}{1+W_{1}+W_{2}}\n",
    "\\end{equation}\n",
    "\n",
    "which can solved for $W_{2}\\simeq$98.75. Notice that we dont use $\\bar{u}$ = 1, because this condition is only true in the limit of infinite I; the $\\bar{u}$ asymptotically approaches 1 as I$\\rightarrow\\inf$."
   ]
  },
  {
   "cell_type": "markdown",
   "metadata": {},
   "source": [
    "#### Estimates for parameters in the binding function"
   ]
  },
  {
   "cell_type": "markdown",
   "metadata": {},
   "source": [
    "To get these parameters ($K_d$ and $n$), I estimated a guess from the data and messed with it until the model and the experimental data looked close. A more systematic method would be to scale all the data by the gain, and then perform a least-squares fit of the $\\bar{u}$ function against the scaled data. My $K_d\\simeq~9\\times{10}^{-2}$ mM and n$\\simeq$1.85."
   ]
  },
  {
   "cell_type": "markdown",
   "metadata": {},
   "source": [
    "#### Model estimated value for the gain:"
   ]
  },
  {
   "cell_type": "markdown",
   "metadata": {},
   "source": [
    "Depending upon the values you estimated from $\\texttt{BioNumbers}$, your gain will be close of far away from the experimental estimate. The parameters that I had the most trouble with was the saturation coefficient for transcription, since the McClure study did not show a figure (or present a table) with that value, nor could it estimated from data in the paper. However, with everthing else fixed, I used the gain estimated from the data to find a value for $K_{X}$ = 0.575 nmol/gDW."
   ]
  },
  {
   "cell_type": "markdown",
   "metadata": {},
   "source": [
    "### 1d. How does the model perform?"
   ]
  },
  {
   "cell_type": "markdown",
   "metadata": {},
   "source": [
    "I used my first principles gain, containing my estimated value of the transcriptional saturation coefficient, with all other parameters taken from literature. I then \"wiggled\" the parameters in the binding function. All parameters are contained in the $\\texttt{Parameters.toml}$ file. All computation is done in the $\\texttt{Solution.jl}$ file."
   ]
  },
  {
   "cell_type": "code",
   "execution_count": 1,
   "metadata": {},
   "outputs": [
    {
     "ename": "LoadError",
     "evalue": "LoadError: ArgumentError: Package TOML not found in current path:\n- Run `import Pkg; Pkg.add(\"TOML\")` to install the TOML package.\n\nin expression starting at /Users/Brian/Desktop/Cornell/Classes/Spring/AdvBio/ProblemSets/CHEME-5440-7770-S20/Final/Problem _3/Include.jl:1",
     "output_type": "error",
     "traceback": [
      "LoadError: ArgumentError: Package TOML not found in current path:\n- Run `import Pkg; Pkg.add(\"TOML\")` to install the TOML package.\n\nin expression starting at /Users/Brian/Desktop/Cornell/Classes/Spring/AdvBio/ProblemSets/CHEME-5440-7770-S20/Final/Problem _3/Include.jl:1",
      "",
      "Stacktrace:",
      " [1] require(::Module, ::Symbol) at ./loading.jl:887",
      " [2] include at ./boot.jl:328 [inlined]",
      " [3] include_relative(::Module, ::String) at ./loading.jl:1105",
      " [4] include(::Module, ::String) at ./Base.jl:31",
      " [5] include(::String) at ./client.jl:424",
      " [6] top-level scope at /Users/Brian/Desktop/Cornell/Classes/Spring/AdvBio/ProblemSets/CHEME-5440-7770-S20/Final/Problem _3/Solution.jl:1",
      " [7] include at ./boot.jl:328 [inlined]",
      " [8] include_relative(::Module, ::String) at ./loading.jl:1105",
      " [9] include(::Module, ::String) at ./Base.jl:31",
      " [10] include(::String) at ./client.jl:424",
      " [11] top-level scope at In[1]:1"
     ]
    }
   ],
   "source": [
    "# include the soluton script -\n",
    "include(\"Solution.jl\")"
   ]
  },
  {
   "cell_type": "code",
   "execution_count": null,
   "metadata": {},
   "outputs": [],
   "source": []
  }
 ],
 "metadata": {
  "kernelspec": {
   "display_name": "Julia 1.3.1",
   "language": "julia",
   "name": "julia-1.3"
  },
  "language_info": {
   "file_extension": ".jl",
   "mimetype": "application/julia",
   "name": "julia",
   "version": "1.3.1"
  }
 },
 "nbformat": 4,
 "nbformat_minor": 4
}
