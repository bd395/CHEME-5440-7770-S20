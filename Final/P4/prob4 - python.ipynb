{
 "cells": [
  {
   "cell_type": "code",
   "execution_count": 12,
   "metadata": {},
   "outputs": [],
   "source": [
    "import numpy as np\n",
    "import matplotlib.pyplot as plt"
   ]
  },
  {
   "cell_type": "code",
   "execution_count": 14,
   "metadata": {},
   "outputs": [],
   "source": [
    "# Import Data\n",
    "\n",
    "data = np.loadtxt(\"Data-3-5-AMP.txt\")\n",
    "\n",
    "amp35_conc = data[:,0] # 3-5-AMP concentration - mM\n",
    "overall_rate = data[:,1]*1e-3 # overall rate - mM/h\n",
    "conf_int95 = data[:,2]\n"
   ]
  },
  {
   "cell_type": "code",
   "execution_count": 11,
   "metadata": {},
   "outputs": [
    {
     "data": {
      "text/plain": [
       "0.59"
      ]
     },
     "execution_count": 11,
     "metadata": {},
     "output_type": "execute_result"
    }
   ],
   "source": [
    "# Given data\n",
    "\n",
    "kcat = 0.4/60 # 1/h\n",
    "E1 = 0.12e-3 # mM\n",
    "conc_F6P = 0.1 # mM\n",
    "conc_ATP = 2.3 # mM\n",
    "K_F6P = 0.11 # mM\n",
    "K_ATP = 0.42 # mM\n",
    "\n",
    "r1 = kcat*E1*(conc_F6P/(conc_F6P + K_F6P))*(conc_ATP/(conc_ATP + K_ATP))"
   ]
  },
  {
   "cell_type": "code",
   "execution_count": 21,
   "metadata": {},
   "outputs": [],
   "source": [
    "# Estimate \n",
    "\n",
    "def simulate_lacZ_expression(GM,W1,W2,Kd,n):\n",
    "\n",
    "    # initialize -\n",
    "    lacZ_sim_array = np.zeros(1000,3)\n",
    "\n",
    "    # setup inducer range -\n",
    "    #I_range = exp10.(range(-5,0,length=1000))\n",
    "    I_range = np.logspace(-5, 0, 1000)\n",
    "\n",
    "    # compute -\n",
    "    for (index,i_val) in enumerate(I_range):\n",
    "        \n",
    "        # grab inducer level -\n",
    "        lacZ_sim_array[index,1] = i_val\n",
    "        \n",
    "        # compute u -\n",
    "        f_val = (i_val^n)/(Kd^n+i_val^2)\n",
    "        u_value = (W1+W2*f_val)/(1+W1+W2*f_val)\n",
    "\n",
    "        # compute mRNA \n",
    "        lacZ_sim_array[index,2] = GM*u_value\n",
    "\n",
    "        # grab u -\n",
    "        lacZ_sim_array[index,3] = u_value\n",
    "\n",
    "    # return -\n",
    "    return lacZ_sim_array"
   ]
  },
  {
   "cell_type": "code",
   "execution_count": null,
   "metadata": {},
   "outputs": [],
   "source": [
    "r_hat = r1*v"
   ]
  },
  {
   "cell_type": "code",
   "execution_count": null,
   "metadata": {},
   "outputs": [],
   "source": []
  },
  {
   "cell_type": "code",
   "execution_count": null,
   "metadata": {},
   "outputs": [],
   "source": []
  },
  {
   "cell_type": "code",
   "execution_count": null,
   "metadata": {},
   "outputs": [],
   "source": []
  }
 ],
 "metadata": {
  "kernelspec": {
   "display_name": "Python [default]",
   "language": "python",
   "name": "python3"
  },
  "language_info": {
   "codemirror_mode": {
    "name": "ipython",
    "version": 3
   },
   "file_extension": ".py",
   "mimetype": "text/x-python",
   "name": "python",
   "nbconvert_exporter": "python",
   "pygments_lexer": "ipython3",
   "version": "3.6.8"
  }
 },
 "nbformat": 4,
 "nbformat_minor": 2
}
